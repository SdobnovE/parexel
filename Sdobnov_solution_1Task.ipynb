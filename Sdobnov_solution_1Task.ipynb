{
 "cells": [
  {
   "cell_type": "code",
   "execution_count": 2,
   "metadata": {},
   "outputs": [],
   "source": [
    "import pandas as pd\n",
    "import numpy as np\n",
    "from sklearn import datasets\n",
    "import matplotlib.pyplot as plt\n",
    "from statistics import median"
   ]
  },
  {
   "cell_type": "code",
   "execution_count": 3,
   "metadata": {},
   "outputs": [],
   "source": [
    "iris = datasets.load_iris()"
   ]
  },
  {
   "cell_type": "code",
   "execution_count": 4,
   "metadata": {},
   "outputs": [
    {
     "data": {
      "text/plain": [
       "dict_keys(['data', 'target', 'target_names', 'DESCR', 'feature_names', 'filename'])"
      ]
     },
     "execution_count": 4,
     "metadata": {},
     "output_type": "execute_result"
    }
   ],
   "source": [
    "iris.keys()"
   ]
  },
  {
   "cell_type": "code",
   "execution_count": 5,
   "metadata": {},
   "outputs": [
    {
     "data": {
      "text/plain": [
       "array([[5.1, 3.5, 1.4, 0.2],\n",
       "       [4.9, 3. , 1.4, 0.2],\n",
       "       [4.7, 3.2, 1.3, 0.2],\n",
       "       [4.6, 3.1, 1.5, 0.2],\n",
       "       [5. , 3.6, 1.4, 0.2],\n",
       "       [5.4, 3.9, 1.7, 0.4],\n",
       "       [4.6, 3.4, 1.4, 0.3],\n",
       "       [5. , 3.4, 1.5, 0.2],\n",
       "       [4.4, 2.9, 1.4, 0.2],\n",
       "       [4.9, 3.1, 1.5, 0.1]])"
      ]
     },
     "execution_count": 5,
     "metadata": {},
     "output_type": "execute_result"
    }
   ],
   "source": [
    "iris[\"data\"][:10,:]"
   ]
  },
  {
   "cell_type": "code",
   "execution_count": 6,
   "metadata": {},
   "outputs": [
    {
     "data": {
      "text/plain": [
       "array([0, 0, 0, 0, 0, 0, 0, 0, 0, 0, 0, 0, 0, 0, 0, 0, 0, 0, 0, 0, 0, 0,\n",
       "       0, 0, 0, 0, 0, 0, 0, 0, 0, 0, 0, 0, 0, 0, 0, 0, 0, 0, 0, 0, 0, 0,\n",
       "       0, 0, 0, 0, 0, 0, 1, 1, 1, 1, 1, 1, 1, 1, 1, 1, 1, 1, 1, 1, 1, 1,\n",
       "       1, 1, 1, 1, 1, 1, 1, 1, 1, 1, 1, 1, 1, 1, 1, 1, 1, 1, 1, 1, 1, 1,\n",
       "       1, 1, 1, 1, 1, 1, 1, 1, 1, 1, 1, 1, 2, 2, 2, 2, 2, 2, 2, 2, 2, 2,\n",
       "       2, 2, 2, 2, 2, 2, 2, 2, 2, 2, 2, 2, 2, 2, 2, 2, 2, 2, 2, 2, 2, 2,\n",
       "       2, 2, 2, 2, 2, 2, 2, 2, 2, 2, 2, 2, 2, 2, 2, 2, 2, 2])"
      ]
     },
     "execution_count": 6,
     "metadata": {},
     "output_type": "execute_result"
    }
   ],
   "source": [
    "iris[\"target\"]"
   ]
  },
  {
   "cell_type": "code",
   "execution_count": 7,
   "metadata": {},
   "outputs": [
    {
     "data": {
      "text/plain": [
       "array(['setosa', 'versicolor', 'virginica'], dtype='<U10')"
      ]
     },
     "execution_count": 7,
     "metadata": {},
     "output_type": "execute_result"
    }
   ],
   "source": [
    "iris[\"target_names\"]"
   ]
  },
  {
   "cell_type": "code",
   "execution_count": 8,
   "metadata": {},
   "outputs": [
    {
     "data": {
      "text/plain": [
       "['sepal length (cm)',\n",
       " 'sepal width (cm)',\n",
       " 'petal length (cm)',\n",
       " 'petal width (cm)']"
      ]
     },
     "execution_count": 8,
     "metadata": {},
     "output_type": "execute_result"
    }
   ],
   "source": [
    "iris[\"feature_names\"]"
   ]
  },
  {
   "cell_type": "code",
   "execution_count": 9,
   "metadata": {},
   "outputs": [],
   "source": [
    "X = iris[\"data\"]\n",
    "y = iris[\"target\"]\n",
    "N = y.shape[0]"
   ]
  },
  {
   "cell_type": "code",
   "execution_count": 10,
   "metadata": {},
   "outputs": [],
   "source": [
    "tab = pd.DataFrame(columns=[\"Iris Setosa\", \"Iris Versicolor\", \"Iris Virginica\", \"Total\"]\n",
    "                   , index=[\"N\", \"MEAN\", \"MIN\", \"MEDIAN\", \"MAX\", \"STD\", \n",
    "                            \"<3\", \">=3 AND <3.5\", \">=3.5 AND <4\"])"
   ]
  },
  {
   "cell_type": "code",
   "execution_count": 11,
   "metadata": {},
   "outputs": [],
   "source": [
    "tab.loc[\"N\"][\"Iris Setosa\"] = X[y == 0].shape[0]\n",
    "tab.loc[\"N\"][\"Iris Versicolor\"] = X[y == 1].shape[0]\n",
    "tab.loc[\"N\"][\"Iris Virginica\"] = X[y == 2].shape[0]\n",
    "tab.loc[\"N\"][\"Total\"] = X.shape[0]"
   ]
  },
  {
   "cell_type": "code",
   "execution_count": 12,
   "metadata": {},
   "outputs": [],
   "source": [
    "tab.loc[\"MEAN\"][\"Iris Setosa\"] = round(X[y == 0, 1].mean(), 2)\n",
    "tab.loc[\"MEAN\"][\"Iris Versicolor\"] = round(X[y == 1, 1].mean(), 2)\n",
    "tab.loc[\"MEAN\"][\"Iris Virginica\"] = round(X[y == 2, 1].mean(), 2)\n",
    "tab.loc[\"MEAN\"][\"Total\"] = round(X[:,1].mean(),2 )"
   ]
  },
  {
   "cell_type": "code",
   "execution_count": 13,
   "metadata": {},
   "outputs": [],
   "source": [
    "tab.loc[\"MIN\"][\"Iris Setosa\"] = X[y == 0, 1].min()\n",
    "tab.loc[\"MIN\"][\"Iris Versicolor\"] = X[y == 1, 1].min()\n",
    "tab.loc[\"MIN\"][\"Iris Virginica\"] = X[y == 2, 1].min()\n",
    "tab.loc[\"MIN\"][\"Total\"] = X[:,1].min()"
   ]
  },
  {
   "cell_type": "code",
   "execution_count": 14,
   "metadata": {},
   "outputs": [],
   "source": [
    "tab.loc[\"MEDIAN\"][\"Iris Setosa\"] = round(median(X[y == 0, 1]), 2)\n",
    "tab.loc[\"MEDIAN\"][\"Iris Versicolor\"] = round(median(X[y == 1, 1]), 2)\n",
    "tab.loc[\"MEDIAN\"][\"Iris Virginica\"] = round(median(X[y == 2, 1]), 2)\n",
    "tab.loc[\"MEDIAN\"][\"Total\"] = round(median(X[:,1]), 2)"
   ]
  },
  {
   "cell_type": "code",
   "execution_count": 15,
   "metadata": {},
   "outputs": [],
   "source": [
    "tab.loc[\"MAX\"][\"Iris Setosa\"] = X[y == 0, 1].max()\n",
    "tab.loc[\"MAX\"][\"Iris Versicolor\"] = X[y == 1, 1].max()\n",
    "tab.loc[\"MAX\"][\"Iris Virginica\"] = X[y == 2, 1].max()\n",
    "tab.loc[\"MAX\"][\"Total\"] = X[:,1].max()"
   ]
  },
  {
   "cell_type": "code",
   "execution_count": 16,
   "metadata": {},
   "outputs": [],
   "source": [
    "tab.loc[\"STD\"][\"Iris Setosa\"] = round(X[y == 0, 1].std(), 2)\n",
    "tab.loc[\"STD\"][\"Iris Versicolor\"] = round(X[y == 1, 1].std(), 2)\n",
    "tab.loc[\"STD\"][\"Iris Virginica\"] = round(X[y == 2, 1].std(), 2)\n",
    "tab.loc[\"STD\"][\"Total\"] = round(X[:,1].std(),2 )"
   ]
  },
  {
   "cell_type": "code",
   "execution_count": 17,
   "metadata": {},
   "outputs": [],
   "source": [
    "tab.loc[\"<3\"][\"Iris Setosa\"] = X[(y == 0) & (X[:,1] < 3), 1].shape[0]\n",
    "tab.loc[\"<3\"][\"Iris Versicolor\"] = X[(y == 1) & (X[:,1] < 3), 1].shape[0]\n",
    "tab.loc[\"<3\"][\"Iris Virginica\"] = X[(y == 2) & (X[:,1] < 3), 1].shape[0]\n",
    "tab.loc[\"<3\"][\"Total\"] = X[X[:,1] < 3, 1].shape[0]"
   ]
  },
  {
   "cell_type": "code",
   "execution_count": 18,
   "metadata": {},
   "outputs": [],
   "source": [
    "tab.loc[\">=3 AND <3.5\"][\"Iris Setosa\"] = X[(y == 0) & (X[:,1] >= 3) & (X[:,1] < 3.5), 1].shape[0]\n",
    "tab.loc[\">=3 AND <3.5\"][\"Iris Versicolor\"] = X[(y == 1) & (X[:,1] >= 3) & (X[:,1] < 3.5), 1].shape[0]\n",
    "tab.loc[\">=3 AND <3.5\"][\"Iris Virginica\"] = X[(y == 2) & (X[:,1] >= 3) & (X[:,1] < 3.5), 1].shape[0]\n",
    "tab.loc[\">=3 AND <3.5\"][\"Total\"] = X[(X[:,1] >= 3) & (X[:,1] < 3.5), 1].shape[0]"
   ]
  },
  {
   "cell_type": "code",
   "execution_count": 19,
   "metadata": {},
   "outputs": [],
   "source": [
    "tab.loc[\">=3.5 AND <4\"][\"Iris Setosa\"] = X[(y == 0) & (X[:,1] >= 3.5) & (X[:,1] < 4), 1].shape[0]\n",
    "tab.loc[\">=3.5 AND <4\"][\"Iris Versicolor\"] = X[(y == 1) & (X[:,1] >= 3.5) & (X[:,1] < 4), 1].shape[0]\n",
    "tab.loc[\">=3.5 AND <4\"][\"Iris Virginica\"] = X[(y == 2) & (X[:,1] >= 3.5) & (X[:,1] < 4), 1].shape[0]\n",
    "tab.loc[\">=3.5 AND <4\"][\"Total\"] = X[(X[:,1] >= 3.5) & (X[:,1] < 4), 1].shape[0]"
   ]
  },
  {
   "cell_type": "code",
   "execution_count": 20,
   "metadata": {},
   "outputs": [],
   "source": [
    "tab.loc[\"<3\"][\"Iris Setosa\"] = (str(tab.loc[\"<3\"][\"Iris Setosa\"]) + \n",
    "                                \" ( \" + \n",
    "                                str(round(tab.loc[\"<3\"][\"Iris Setosa\"] / N, 1)) + \n",
    "                                \" ) \")\n",
    "\n",
    "tab.loc[\"<3\"][\"Iris Versicolor\"] = (str(tab.loc[\"<3\"][\"Iris Versicolor\"]) + \n",
    "                                \" ( \" + \n",
    "                                str(round(tab.loc[\"<3\"][\"Iris Versicolor\"] / N, 1)) + \n",
    "                                \" ) \")\n",
    "\n",
    "tab.loc[\"<3\"][\"Iris Virginica\"] = (str(tab.loc[\"<3\"][\"Iris Virginica\"]) + \n",
    "                                \" ( \" + \n",
    "                                str(round(tab.loc[\"<3\"][\"Iris Virginica\"] / N, 1)) + \n",
    "                                \" ) \")\n",
    "\n",
    "tab.loc[\"<3\"][\"Total\"] = (str(tab.loc[\"<3\"][\"Total\"]) + \n",
    "                                \" ( \" + \n",
    "                                str(round(tab.loc[\"<3\"][\"Total\"] / N, 1)) + \n",
    "                                \" ) \")"
   ]
  },
  {
   "cell_type": "code",
   "execution_count": 21,
   "metadata": {},
   "outputs": [],
   "source": [
    "tab.loc[\">=3 AND <3.5\"][\"Iris Setosa\"] = (str(tab.loc[\">=3 AND <3.5\"][\"Iris Setosa\"]) + \n",
    "                                \" ( \" + \n",
    "                                str(round(tab.loc[\">=3 AND <3.5\"][\"Iris Setosa\"] / N, 1)) + \n",
    "                                \" ) \")\n",
    "\n",
    "tab.loc[\">=3 AND <3.5\"][\"Iris Versicolor\"] = (str(tab.loc[\">=3 AND <3.5\"][\"Iris Versicolor\"]) + \n",
    "                                \" ( \" + \n",
    "                                str(round(tab.loc[\">=3 AND <3.5\"][\"Iris Versicolor\"] / N, 1)) + \n",
    "                                \" ) \")\n",
    "\n",
    "tab.loc[\">=3 AND <3.5\"][\"Iris Virginica\"] = (str(tab.loc[\">=3 AND <3.5\"][\"Iris Virginica\"]) + \n",
    "                                \" ( \" + \n",
    "                                str(round(tab.loc[\">=3 AND <3.5\"][\"Iris Virginica\"] / N, 1)) + \n",
    "                                \" ) \")\n",
    "\n",
    "tab.loc[\">=3 AND <3.5\"][\"Total\"] = (str(tab.loc[\">=3 AND <3.5\"][\"Total\"]) + \n",
    "                                \" ( \" + \n",
    "                                str(round(tab.loc[\">=3 AND <3.5\"][\"Total\"] / N, 1)) + \n",
    "                                \" ) \")"
   ]
  },
  {
   "cell_type": "code",
   "execution_count": 22,
   "metadata": {},
   "outputs": [],
   "source": [
    "tab.loc[\">=3.5 AND <4\"][\"Iris Setosa\"] = (str(tab.loc[\">=3.5 AND <4\"][\"Iris Setosa\"]) + \n",
    "                                \" ( \" + \n",
    "                                str(round(tab.loc[\">=3.5 AND <4\"][\"Iris Setosa\"] / N, 1)) + \n",
    "                                \" ) \")\n",
    "\n",
    "tab.loc[\">=3.5 AND <4\"][\"Iris Versicolor\"] = (str(tab.loc[\">=3.5 AND <4\"][\"Iris Versicolor\"]) + \n",
    "                                \" ( \" + \n",
    "                                str(round(tab.loc[\">=3.5 AND <4\"][\"Iris Versicolor\"] / N, 1)) + \n",
    "                                \" ) \")\n",
    "\n",
    "tab.loc[\">=3.5 AND <4\"][\"Iris Virginica\"] = (str(tab.loc[\">=3.5 AND <4\"][\"Iris Virginica\"]) + \n",
    "                                \" ( \" + \n",
    "                                str(round(tab.loc[\">=3.5 AND <4\"][\"Iris Virginica\"] / N, 1)) + \n",
    "                                \" ) \")\n",
    "\n",
    "tab.loc[\">=3.5 AND <4\"][\"Total\"] = (str(tab.loc[\">=3.5 AND <4\"][\"Total\"]) + \n",
    "                                \" ( \" + \n",
    "                                str(round(tab.loc[\">=3.5 AND <4\"][\"Total\"] / N, 1)) + \n",
    "                                \" ) \")"
   ]
  },
  {
   "cell_type": "code",
   "execution_count": 23,
   "metadata": {},
   "outputs": [
    {
     "data": {
      "text/html": [
       "<div>\n",
       "<style scoped>\n",
       "    .dataframe tbody tr th:only-of-type {\n",
       "        vertical-align: middle;\n",
       "    }\n",
       "\n",
       "    .dataframe tbody tr th {\n",
       "        vertical-align: top;\n",
       "    }\n",
       "\n",
       "    .dataframe thead th {\n",
       "        text-align: right;\n",
       "    }\n",
       "</style>\n",
       "<table border=\"1\" class=\"dataframe\">\n",
       "  <thead>\n",
       "    <tr style=\"text-align: right;\">\n",
       "      <th></th>\n",
       "      <th>Iris Setosa</th>\n",
       "      <th>Iris Versicolor</th>\n",
       "      <th>Iris Virginica</th>\n",
       "      <th>Total</th>\n",
       "    </tr>\n",
       "  </thead>\n",
       "  <tbody>\n",
       "    <tr>\n",
       "      <th>N</th>\n",
       "      <td>50</td>\n",
       "      <td>50</td>\n",
       "      <td>50</td>\n",
       "      <td>150</td>\n",
       "    </tr>\n",
       "    <tr>\n",
       "      <th>MEAN</th>\n",
       "      <td>3.43</td>\n",
       "      <td>2.77</td>\n",
       "      <td>2.97</td>\n",
       "      <td>3.06</td>\n",
       "    </tr>\n",
       "    <tr>\n",
       "      <th>MIN</th>\n",
       "      <td>2.3</td>\n",
       "      <td>2</td>\n",
       "      <td>2.2</td>\n",
       "      <td>2</td>\n",
       "    </tr>\n",
       "    <tr>\n",
       "      <th>MEDIAN</th>\n",
       "      <td>3.4</td>\n",
       "      <td>2.8</td>\n",
       "      <td>3</td>\n",
       "      <td>3</td>\n",
       "    </tr>\n",
       "    <tr>\n",
       "      <th>MAX</th>\n",
       "      <td>4.4</td>\n",
       "      <td>3.4</td>\n",
       "      <td>3.8</td>\n",
       "      <td>4.4</td>\n",
       "    </tr>\n",
       "    <tr>\n",
       "      <th>STD</th>\n",
       "      <td>0.38</td>\n",
       "      <td>0.31</td>\n",
       "      <td>0.32</td>\n",
       "      <td>0.43</td>\n",
       "    </tr>\n",
       "    <tr>\n",
       "      <th>&lt;3</th>\n",
       "      <td>2 ( 0.0 )</td>\n",
       "      <td>34 ( 0.2 )</td>\n",
       "      <td>21 ( 0.1 )</td>\n",
       "      <td>57 ( 0.4 )</td>\n",
       "    </tr>\n",
       "    <tr>\n",
       "      <th>&gt;=3 AND &lt;3.5</th>\n",
       "      <td>26 ( 0.2 )</td>\n",
       "      <td>16 ( 0.1 )</td>\n",
       "      <td>26 ( 0.2 )</td>\n",
       "      <td>68 ( 0.5 )</td>\n",
       "    </tr>\n",
       "    <tr>\n",
       "      <th>&gt;=3.5 AND &lt;4</th>\n",
       "      <td>18 ( 0.1 )</td>\n",
       "      <td>0 ( 0.0 )</td>\n",
       "      <td>3 ( 0.0 )</td>\n",
       "      <td>21 ( 0.1 )</td>\n",
       "    </tr>\n",
       "  </tbody>\n",
       "</table>\n",
       "</div>"
      ],
      "text/plain": [
       "              Iris Setosa Iris Versicolor Iris Virginica        Total\n",
       "N                      50              50             50          150\n",
       "MEAN                 3.43            2.77           2.97         3.06\n",
       "MIN                   2.3               2            2.2            2\n",
       "MEDIAN                3.4             2.8              3            3\n",
       "MAX                   4.4             3.4            3.8          4.4\n",
       "STD                  0.38            0.31           0.32         0.43\n",
       "<3             2 ( 0.0 )      34 ( 0.2 )     21 ( 0.1 )   57 ( 0.4 ) \n",
       ">=3 AND <3.5  26 ( 0.2 )      16 ( 0.1 )     26 ( 0.2 )   68 ( 0.5 ) \n",
       ">=3.5 AND <4  18 ( 0.1 )       0 ( 0.0 )      3 ( 0.0 )   21 ( 0.1 ) "
      ]
     },
     "execution_count": 23,
     "metadata": {},
     "output_type": "execute_result"
    }
   ],
   "source": [
    "tab"
   ]
  },
  {
   "cell_type": "code",
   "execution_count": null,
   "metadata": {},
   "outputs": [],
   "source": []
  },
  {
   "cell_type": "markdown",
   "metadata": {},
   "source": [
    "# Простой способ построить менее информативную таблицу но очень быстро"
   ]
  },
  {
   "cell_type": "code",
   "execution_count": 57,
   "metadata": {},
   "outputs": [],
   "source": [
    "tab1 = pd.DataFrame(columns=[\"Iris Setosa\", \"Iris Versicolor\", \"Iris Virginica\", \"Total\"],\n",
    "                    index=['count', 'mean', 'std', 'min', '25%', '50%', '75%', 'max'])"
   ]
  },
  {
   "cell_type": "code",
   "execution_count": 58,
   "metadata": {},
   "outputs": [],
   "source": [
    "tab1[\"Total\"] = pd.DataFrame(X[:,1]).describe()\n",
    "tab1[\"Iris Setosa\"] = pd.DataFrame(X[y == 0,1]).describe()\n",
    "tab1[\"Iris Versicolor\"] = pd.DataFrame(X[y == 1,1]).describe()\n",
    "tab1[\"Iris Virginica\"] = pd.DataFrame(X[y == 2,1]).describe()"
   ]
  },
  {
   "cell_type": "code",
   "execution_count": 64,
   "metadata": {},
   "outputs": [
    {
     "data": {
      "text/html": [
       "<div>\n",
       "<style scoped>\n",
       "    .dataframe tbody tr th:only-of-type {\n",
       "        vertical-align: middle;\n",
       "    }\n",
       "\n",
       "    .dataframe tbody tr th {\n",
       "        vertical-align: top;\n",
       "    }\n",
       "\n",
       "    .dataframe thead th {\n",
       "        text-align: right;\n",
       "    }\n",
       "</style>\n",
       "<table border=\"1\" class=\"dataframe\">\n",
       "  <thead>\n",
       "    <tr style=\"text-align: right;\">\n",
       "      <th></th>\n",
       "      <th>Iris Setosa</th>\n",
       "      <th>Iris Versicolor</th>\n",
       "      <th>Iris Virginica</th>\n",
       "      <th>Total</th>\n",
       "    </tr>\n",
       "  </thead>\n",
       "  <tbody>\n",
       "    <tr>\n",
       "      <th>count</th>\n",
       "      <td>50.000000</td>\n",
       "      <td>50.000000</td>\n",
       "      <td>50.000000</td>\n",
       "      <td>150.000000</td>\n",
       "    </tr>\n",
       "    <tr>\n",
       "      <th>mean</th>\n",
       "      <td>3.428000</td>\n",
       "      <td>2.770000</td>\n",
       "      <td>2.974000</td>\n",
       "      <td>3.057333</td>\n",
       "    </tr>\n",
       "    <tr>\n",
       "      <th>min</th>\n",
       "      <td>2.300000</td>\n",
       "      <td>2.000000</td>\n",
       "      <td>2.200000</td>\n",
       "      <td>2.000000</td>\n",
       "    </tr>\n",
       "    <tr>\n",
       "      <th>max</th>\n",
       "      <td>4.400000</td>\n",
       "      <td>3.400000</td>\n",
       "      <td>3.800000</td>\n",
       "      <td>4.400000</td>\n",
       "    </tr>\n",
       "    <tr>\n",
       "      <th>std</th>\n",
       "      <td>0.379064</td>\n",
       "      <td>0.313798</td>\n",
       "      <td>0.322497</td>\n",
       "      <td>0.435866</td>\n",
       "    </tr>\n",
       "  </tbody>\n",
       "</table>\n",
       "</div>"
      ],
      "text/plain": [
       "       Iris Setosa  Iris Versicolor  Iris Virginica       Total\n",
       "count    50.000000        50.000000       50.000000  150.000000\n",
       "mean      3.428000         2.770000        2.974000    3.057333\n",
       "min       2.300000         2.000000        2.200000    2.000000\n",
       "max       4.400000         3.400000        3.800000    4.400000\n",
       "std       0.379064         0.313798        0.322497    0.435866"
      ]
     },
     "execution_count": 64,
     "metadata": {},
     "output_type": "execute_result"
    }
   ],
   "source": [
    "tab1.loc[[\"count\", \"mean\", \"min\", \"max\", \"std\"]]"
   ]
  },
  {
   "cell_type": "code",
   "execution_count": null,
   "metadata": {},
   "outputs": [],
   "source": []
  }
 ],
 "metadata": {
  "kernelspec": {
   "display_name": "Python 3",
   "language": "python",
   "name": "python3"
  },
  "language_info": {
   "codemirror_mode": {
    "name": "ipython",
    "version": 3
   },
   "file_extension": ".py",
   "mimetype": "text/x-python",
   "name": "python",
   "nbconvert_exporter": "python",
   "pygments_lexer": "ipython3",
   "version": "3.7.6"
  }
 },
 "nbformat": 4,
 "nbformat_minor": 4
}
